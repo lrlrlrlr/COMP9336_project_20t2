{
 "cells": [
  {
   "cell_type": "code",
   "execution_count": 2,
   "metadata": {},
   "outputs": [],
   "source": [
    "n = 2000\n",
    "index = pd.date_range(start='2000-01-01', periods=n)\n",
    "data = np.random.randn(n, 4)\n",
    "df = pd.DataFrame(data, columns=list('ABCD'), index=index)\n",
    "\n",
    "import pandas as pd\n",
    "from pykalman import KalmanFilter\n",
    "import numpy as np\n",
    "\n",
    "def rolling_window(a, step):\n",
    "    shape   = a.shape[:-1] + (a.shape[-1] - step + 1, step)\n",
    "    strides = a.strides + (a.strides[-1],)\n",
    "    return np.lib.stride_tricks.as_strided(a, shape=shape, strides=strides)\n",
    "\n",
    "def get_kf_value(y_values):\n",
    "    kf = KalmanFilter()\n",
    "    Kc, Ke = kf.em(y_values, n_iter=1).smooth(0)\n",
    "    return Kc\n",
    "\n",
    "n = 2000\n",
    "index = pd.date_range(start='2000-01-01', periods=n)\n",
    "data = np.random.randn(n, 4)\n",
    "df = pd.DataFrame(data, columns=list('ABCD'), index=index)\n",
    "\n",
    "wsize = 3\n",
    "arr = rolling_window(df.D.values, wsize)\n",
    "zero_padding = np.zeros(shape=(wsize-1,wsize))\n",
    "arrst = np.concatenate((zero_padding, arr))\n",
    "arrkalman = np.zeros(shape=(len(arrst),1))\n",
    "\n",
    "for i in range(len(arrst)):\n",
    "    arrkalman[i] = get_kf_value(arrst[i])\n",
    "\n",
    "kalmandf = pd.DataFrame(arrkalman, columns=['D_kalman'], index=index)\n",
    "df = pd.concat([df,kalmandf], axis=1)"
   ]
  },
  {
   "cell_type": "code",
   "execution_count": null,
   "metadata": {},
   "outputs": [],
   "source": []
  }
 ],
 "metadata": {
  "kernelspec": {
   "display_name": "Python 3",
   "language": "python",
   "name": "python3"
  },
  "language_info": {
   "codemirror_mode": {
    "name": "ipython",
    "version": 3
   },
   "file_extension": ".py",
   "mimetype": "text/x-python",
   "name": "python",
   "nbconvert_exporter": "python",
   "pygments_lexer": "ipython3",
   "version": "3.7.0"
  }
 },
 "nbformat": 4,
 "nbformat_minor": 2
}
